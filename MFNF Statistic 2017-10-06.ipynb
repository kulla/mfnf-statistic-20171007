{
 "cells": [
  {
   "cell_type": "code",
   "execution_count": 9,
   "metadata": {
    "collapsed": true
   },
   "outputs": [],
   "source": [
    "# This session uses code from https://github.com/Lodifice/mfnf-pdf-export which is licensed under Apache License 2.0\n",
    "\n",
    "import re\n",
    "from datetime import date, datetime"
   ]
  },
  {
   "cell_type": "code",
   "execution_count": 10,
   "metadata": {
    "collapsed": true
   },
   "outputs": [],
   "source": [
    "import hashlib\n",
    "import collections\n",
    "import shelve\n",
    "\n",
    "def sha256(text):\n",
    "    return hashlib.sha256(text.encode(\"utf8\")).hexdigest()\n",
    "\n",
    "def stablehash(obj):\n",
    "    if callable(getattr(obj, \"_stablehash\", None)):\n",
    "        return obj._stablehash()\n",
    "    elif isinstance(obj, str):\n",
    "        return sha256(obj)\n",
    "    elif isinstance(obj, collections.abc.Sequence):\n",
    "        return sha256(\";\".join([stablehash(x) for x in obj]))\n",
    "    elif isinstance(obj, collections.abc.Mapping):\n",
    "        return stablehash([\"<\" + stablehash(k) + \";\" + stablehash(v) + \">\" for k, v in obj.items()])\n",
    "    else:\n",
    "        print(obj)\n",
    "        raise NotImplementedError()\n",
    "        \n",
    "class CachedFunction:\n",
    "    def __init__(self, db):\n",
    "        self.db = db\n",
    "\n",
    "    def __call__(self, func):\n",
    "        def new_func(*args, **kwargs):\n",
    "            key = stablehash([func.__name__, args, kwargs])\n",
    "\n",
    "            if key in self.db:\n",
    "                return self.db[key]\n",
    "            else:\n",
    "                result = func(*args, **kwargs)\n",
    "\n",
    "                self.db[key] = result\n",
    "\n",
    "                return result\n",
    "\n",
    "        return new_func\n",
    "\n",
    "DB = shelve.open(\"cache.db\", \"c\", writeback=True)\n",
    "cached_function = CachedFunction(DB)"
   ]
  },
  {
   "cell_type": "code",
   "execution_count": 11,
   "metadata": {
    "collapsed": true
   },
   "outputs": [],
   "source": [
    "def remove_prefix(text, prefix):\n",
    "    \"\"\"Removes the prefix `prefix` from string `text` in case it is present.\"\"\"\n",
    "    return text[len(prefix):] if text.startswith(prefix) else text\n",
    "\n",
    "def remove_suffix(text, suffix):\n",
    "    \"\"\"Removes the suffix `suffix` from string `text` in case it is present.\"\"\"\n",
    "    return text[:len(text)-len(suffix)] if text.endswith(suffix) else text"
   ]
  },
  {
   "cell_type": "code",
   "execution_count": 12,
   "metadata": {
    "collapsed": true
   },
   "outputs": [],
   "source": [
    "import requests\n",
    "\n",
    "from functools import reduce\n",
    "from urllib.parse import quote\n",
    "\n",
    "def select_singleton(x):\n",
    "    return next(iter(x.values()))\n",
    "\n",
    "def merge(obj1, obj2):\n",
    "    \"\"\"Merges two objects depending of the type of the first argument.\n",
    "    >>> merge(None, 42)\n",
    "    42\n",
    "    >>> merge(None, None) is None\n",
    "    True\n",
    "    >>> merge([1, 2], [6, 7])\n",
    "    [1, 2, 6, 7]\n",
    "    >>> d = merge({ \"a\": 1, \"b\": 2}, {\"b\": 3, \"c\": 4})\n",
    "    >>> d == {\"a\": 1, \"b\": 3, \"c\": 4}\n",
    "    True\n",
    "    \"\"\"\n",
    "    if obj1 is None:\n",
    "        return obj2\n",
    "    elif isinstance(obj1, list):\n",
    "        return obj1 + obj2\n",
    "    elif isinstance(obj2, dict):\n",
    "        result = obj1.copy()\n",
    "        result.update(obj2)\n",
    "        return result\n",
    "    else:\n",
    "        raise NotImplementedError()\n",
    "\n",
    "def query_path(obj, path):\n",
    "    return reduce(lambda x, y: y(x) if callable(y) else x[y], path, obj)\n",
    "\n",
    "class MediaWikiAPI():\n",
    "    \"\"\"Implements an API for content stored on a MediaWiki.\"\"\"\n",
    "\n",
    "    def __init__(self, domain=\"de.wikibooks.org\", req=requests.Session()):\n",
    "        \"\"\"Initializes the object.\n",
    "        Arguments:\n",
    "        domain -- domain of the MediaWiki, e.g. `\"de.wikibooks.org\"`\n",
    "        req    -- an session object of the `request` framework\n",
    "        \"\"\"\n",
    "        self.domain = domain\n",
    "        self.req = req\n",
    "\n",
    "    def _stablehash(self):\n",
    "        return stablehash((self.__class__.__name__, self.domain))\n",
    "\n",
    "    @property\n",
    "    def _index_url(self):\n",
    "        \"\"\"Returns the URL to the server's `index.php` file.\"\"\"\n",
    "        return \"https://\" + self.domain + \"/w/index.php\"\n",
    "\n",
    "    @property\n",
    "    def _api_url(self):\n",
    "        \"\"\"Returns the URL to the server's `api.php` file.\"\"\"\n",
    "        return \"https://\" + self.domain + \"/w/api.php\"\n",
    "\n",
    "    @property\n",
    "    def _rest_api_url(self):\n",
    "        \"\"\"Returns the URL to the server's REST API endpoints.\"\"\"\n",
    "        return \"https://\" + self.domain + \"/api/rest_v1\"\n",
    "\n",
    "    def _index_call(self, params):\n",
    "        \"\"\"Make an HTTP request to the server's `index.php` file.\"\"\"\n",
    "        req = self.req.get(self._index_url, params=params)\n",
    "\n",
    "        req.raise_for_status()\n",
    "\n",
    "        return req.text\n",
    "\n",
    "    def _api_call(self, endpoint, data={}, domain=None):\n",
    "        \"\"\"Call an REST API endpoint.\"\"\"\n",
    "        if domain is None:\n",
    "            api_url = self._rest_api_url\n",
    "        else:\n",
    "            api_url = \"https://\" + domain + \"/api/rest_v1\"\n",
    "        \n",
    "        endpoint_url = \"/\".join([api_url] + endpoint)\n",
    "\n",
    "        result = self.req.get(endpoint_url, data=data)\n",
    "\n",
    "        return result\n",
    "\n",
    "    def query(self, params, path_to_result):\n",
    "        params[\"format\"] = \"json\"\n",
    "        params[\"action\"] = \"query\"\n",
    "        path_to_result = [\"query\"] + path_to_result\n",
    "        result = None\n",
    "\n",
    "        while True:\n",
    "            api_result = self.req.get(self._api_url, params=params).json()\n",
    "\n",
    "            if \"error\" in api_result:\n",
    "                message = \"Error while making API call.\"\n",
    "\n",
    "                raise ConnectionError(api_result.get(\"info\", message))\n",
    "\n",
    "            result = merge(result, query_path(api_result, path_to_result))\n",
    "\n",
    "            if \"continue\" in api_result:\n",
    "                params.update(api_result[\"continue\"])\n",
    "            else:\n",
    "                return result\n",
    "\n",
    "    @cached_function\n",
    "    def get_revisions(self, title):\n",
    "        if title.startswith(\"c:\"):\n",
    "            return []\n",
    "        \n",
    "        params = {\"prop\": \"revisions\", \"rvprop\": \"size|user|timestamp|userid|ids|comment\", \"titles\": title,\n",
    "                  \"rvlimit\": \"max\"}\n",
    "\n",
    "        try:\n",
    "            return self.query(params, [\"pages\", select_singleton, \"revisions\"])\n",
    "        except KeyError as e:\n",
    "            if str(e) == \"'revisions'\":\n",
    "                return []\n",
    "            else:\n",
    "                print(title)\n",
    "                raise\n",
    "    \n",
    "    def revisions(self, title):\n",
    "        if title is None:\n",
    "            return []\n",
    "        \n",
    "        result = self.get_revisions(title)\n",
    "        \n",
    "        oldsize = 0\n",
    "        for rev in reversed(result):\n",
    "            rev[\"date\"] = datetime.strptime(rev[\"timestamp\"], \"%Y-%m-%dT%H:%M:%SZ\").date()\n",
    "            rev[\"diffsize\"] = rev[\"size\"] - oldsize\n",
    "            oldsize = rev[\"size\"]\n",
    "            rev[\"weight\"] = max(100, rev[\"diffsize\"])\n",
    "\n",
    "        return result\n",
    "    \n",
    "    @cached_function\n",
    "    def get_all_pageviews(self, title):\n",
    "        endpoint = [\"metrics\", \"pageviews\", \"per-article\", self.domain, \"all-access\", \"user\",\n",
    "                    quote(title, safe=\"\"), \"daily\", \"20150701\", \"20171006\"]\n",
    "        \n",
    "        req = self._api_call(endpoint, domain=\"wikimedia.org\")\n",
    "        \n",
    "        if req.status_code == requests.codes.ok:\n",
    "            return req.json()[\"items\"]\n",
    "        else:\n",
    "            return []\n",
    "    \n",
    "    def get_content(self, title):\n",
    "        return self._index_call({\"action\": \"raw\", \"title\": title})\n",
    "    \n",
    "    def pageviews_of(self, title, start, end):\n",
    "        if len(end) == 8:\n",
    "            end += \"00\"\n",
    "            \n",
    "        return sum((x[\"views\"] for x in self.get_all_pageviews(title) if x[\"timestamp\"] >= start and x[\"timestamp\"] <= end))\n",
    "    \n",
    "    def pageviews(self, title, start, end):\n",
    "        return sum((self.pageviews_of(x, start, end) for x in self.all_titles(title)))\n",
    "    \n",
    "    def all_titles(self, title):\n",
    "        \"\"\"Returns a set of all titles the article `title` had in the past.\"\"\"\n",
    "        result = set()\n",
    "\n",
    "        result.add(title)\n",
    "\n",
    "        re_link = \"\\\\[\\\\[([^\\\\]]+)\\\\]\\\\]\"\n",
    "        re1 = \".*verschob die Seite %s nach %s.*\" % (re_link, re_link)\n",
    "        re2 = \".*hat „%s“ nach „%s“ verschoben.*\" % (re_link, re_link)\n",
    "        regs = [ re.compile(re1), re.compile(re2) ]\n",
    "\n",
    "        for comment in (x[\"comment\"] for x in self.get_revisions(title)):\n",
    "            for reg in regs:\n",
    "                m = reg.match(comment)\n",
    "\n",
    "                if m:\n",
    "                    result.add(m.group(1))\n",
    "                    result.add(m.group(2))\n",
    "\n",
    "        return result\n",
    "    \n",
    "wb = MediaWikiAPI()"
   ]
  },
  {
   "cell_type": "code",
   "execution_count": 13,
   "metadata": {
    "collapsed": true
   },
   "outputs": [],
   "source": [
    "from sitemap import parse_sitemap\n",
    "\n",
    "mfnf = parse_sitemap(wb.get_content(\"Mathe für Nicht-Freaks: Sitemap\"))\n",
    "mfnf[\"title\"] = \"Mathe für Nicht-Freaks\"\n",
    "grund = mfnf[\"children\"][1]\n",
    "ana1 = mfnf[\"children\"][2]\n",
    "la1 = mfnf[\"children\"][3]"
   ]
  },
  {
   "cell_type": "markdown",
   "metadata": {},
   "source": [
    "# Seitenaufrufe"
   ]
  },
  {
   "cell_type": "markdown",
   "metadata": {},
   "source": [
    "In den folgenden Statistiken sind Seitenaufrufe durch Bots und Spiders rausgerechnet."
   ]
  },
  {
   "cell_type": "code",
   "execution_count": 14,
   "metadata": {
    "collapsed": true
   },
   "outputs": [],
   "source": [
    "def pageviews(node, start, end):\n",
    "    result = wb.pageviews(node[\"title\"], start, end) if node[\"title\"] else 0\n",
    "    \n",
    "    return result + sum((pageviews(x, start, end) for x in node[\"children\"]))"
   ]
  },
  {
   "cell_type": "markdown",
   "metadata": {},
   "source": [
    "## Seitenaufrufe im Wintersemester 2016/17"
   ]
  },
  {
   "cell_type": "code",
   "execution_count": 15,
   "metadata": {},
   "outputs": [
    {
     "name": "stdout",
     "output_type": "stream",
     "text": [
      "Gesamt: 1205677\n",
      "Grundlagenbuch: 524177\n",
      "Analysis 1: 571766\n",
      "Lineare Algebra 1: 60159\n"
     ]
    }
   ],
   "source": [
    "def ws16(what, node):\n",
    "    print(what, pageviews(node, \"20161001\", \"20170331\"))\n",
    "\n",
    "ws16(\"Gesamt:\", mfnf)\n",
    "ws16(\"Grundlagenbuch:\", grund)\n",
    "ws16(\"Analysis 1:\", ana1)\n",
    "ws16(\"Lineare Algebra 1:\", la1)"
   ]
  },
  {
   "cell_type": "markdown",
   "metadata": {},
   "source": [
    "## Seitenaufrufe im Sommersemester 2017"
   ]
  },
  {
   "cell_type": "code",
   "execution_count": 16,
   "metadata": {},
   "outputs": [
    {
     "name": "stdout",
     "output_type": "stream",
     "text": [
      "Gesamt: 666645\n",
      "Grundlagenbuch: 243700\n",
      "Analysis 1: 337241\n",
      "Lineare Algebra 1: 49434\n"
     ]
    }
   ],
   "source": [
    "print(\"Gesamt:\", pageviews(mfnf, \"20170401\", \"20170930\"))\n",
    "print(\"Grundlagenbuch:\", pageviews(grund, \"20170401\", \"20170930\"))\n",
    "print(\"Analysis 1:\", pageviews(ana1, \"20170401\", \"20170930\"))\n",
    "print(\"Lineare Algebra 1:\", pageviews(la1, \"20170401\", \"20170930\"))"
   ]
  },
  {
   "cell_type": "markdown",
   "metadata": {},
   "source": [
    "## Seitenaufrufe im WiSe 2017/18 und SoSe 18"
   ]
  },
  {
   "cell_type": "code",
   "execution_count": 17,
   "metadata": {},
   "outputs": [
    {
     "name": "stdout",
     "output_type": "stream",
     "text": [
      "Gesamt: 1872322\n",
      "Grundlagenbuch: 767877\n",
      "Analysis 1: 909007\n",
      "Lineare Algebra 1: 109593\n"
     ]
    }
   ],
   "source": [
    "def ws16(what, node):\n",
    "    print(what, pageviews(node, \"20161001\", \"20170930\"))\n",
    "\n",
    "ws16(\"Gesamt:\", mfnf)\n",
    "ws16(\"Grundlagenbuch:\", grund)\n",
    "ws16(\"Analysis 1:\", ana1)\n",
    "ws16(\"Lineare Algebra 1:\", la1)"
   ]
  },
  {
   "cell_type": "markdown",
   "metadata": {},
   "source": [
    "## Wachstum der Seitenaufrufe im Zeitraum 01.07.2017 - 30.09.2017 im Vergleich zum Vorjahr"
   ]
  },
  {
   "cell_type": "code",
   "execution_count": 18,
   "metadata": {},
   "outputs": [
    {
     "name": "stdout",
     "output_type": "stream",
     "text": [
      "Gesamt: 39.3%\n",
      "Grundlagenbuch: 8.1%\n",
      "Analysis 1: 62.7%\n",
      "Lineare Algebra 1: 273.3%\n"
     ]
    }
   ],
   "source": [
    "def w(what, node):\n",
    "    p = (pageviews(node, \"20170701\", \"20170930\") / pageviews(node, \"20160701\", \"20160930\") - 1)*100\n",
    "    print(what, (\"%.1f\" % p) + \"%\")\n",
    "\n",
    "w(\"Gesamt:\", mfnf)\n",
    "w(\"Grundlagenbuch:\", grund)\n",
    "w(\"Analysis 1:\", ana1)\n",
    "w(\"Lineare Algebra 1:\", la1)"
   ]
  },
  {
   "cell_type": "markdown",
   "metadata": {},
   "source": [
    "# Autorenbeiträge"
   ]
  },
  {
   "cell_type": "code",
   "execution_count": 19,
   "metadata": {
    "collapsed": true
   },
   "outputs": [],
   "source": [
    "def revisions(node, start, end):\n",
    "    result = [x for x in wb.revisions(node[\"title\"]) if x[\"date\"] >= start and x[\"date\"] <= end]\n",
    "    \n",
    "    return result + sum((revisions(x, start, end) for x in node[\"children\"]), [])"
   ]
  },
  {
   "cell_type": "markdown",
   "metadata": {},
   "source": [
    "## Anzahl der Bearbeitungen im Wintersemester 2017/18"
   ]
  },
  {
   "cell_type": "code",
   "execution_count": 20,
   "metadata": {},
   "outputs": [
    {
     "name": "stdout",
     "output_type": "stream",
     "text": [
      "Gesamt: 2783\n",
      "Grundlagenbuch: 86\n",
      "Analysis 1: 1769\n",
      "Lineare Algebra 1: 690\n"
     ]
    }
   ],
   "source": [
    "def ws16(what, node):\n",
    "    print(what, len(revisions(node, date(2016, 10, 1), date(2017, 3, 31))))\n",
    "\n",
    "ws16(\"Gesamt:\", mfnf)\n",
    "ws16(\"Grundlagenbuch:\", grund)\n",
    "ws16(\"Analysis 1:\", ana1)\n",
    "ws16(\"Lineare Algebra 1:\", la1)"
   ]
  },
  {
   "cell_type": "markdown",
   "metadata": {},
   "source": [
    "## Anzahl der Bearbeitungen im Sommersemester 2018"
   ]
  },
  {
   "cell_type": "code",
   "execution_count": 21,
   "metadata": {},
   "outputs": [
    {
     "name": "stdout",
     "output_type": "stream",
     "text": [
      "Gesamt: 2740\n",
      "Grundlagenbuch: 40\n",
      "Analysis 1: 1833\n",
      "Lineare Algebra 1: 479\n"
     ]
    }
   ],
   "source": [
    "def w(what, node):\n",
    "    print(what, len(revisions(node, date(2017, 4, 1), date(2017, 9, 30))))\n",
    "\n",
    "w(\"Gesamt:\", mfnf)\n",
    "w(\"Grundlagenbuch:\", grund)\n",
    "w(\"Analysis 1:\", ana1)\n",
    "w(\"Lineare Algebra 1:\", la1)"
   ]
  },
  {
   "cell_type": "markdown",
   "metadata": {},
   "source": [
    "## Anzahl der Bearbeitungen im WiSe 17/18 und SoSe 18 insgesamt"
   ]
  },
  {
   "cell_type": "code",
   "execution_count": 22,
   "metadata": {},
   "outputs": [
    {
     "name": "stdout",
     "output_type": "stream",
     "text": [
      "Gesamt: 5523\n",
      "Grundlagenbuch: 126\n",
      "Analysis 1: 3602\n",
      "Lineare Algebra 1: 1169\n"
     ]
    }
   ],
   "source": [
    "def w(what, node):\n",
    "    print(what, len(revisions(node, date(2016, 10, 1), date(2017, 9, 30))))\n",
    "\n",
    "w(\"Gesamt:\", mfnf)\n",
    "w(\"Grundlagenbuch:\", grund)\n",
    "w(\"Analysis 1:\", ana1)\n",
    "w(\"Lineare Algebra 1:\", la1)"
   ]
  },
  {
   "cell_type": "markdown",
   "metadata": {},
   "source": [
    "## Wachstum in den Bearbeitungen im Vergleich zum Vorjahr\n",
    "\n",
    "Wachstum der Bearbeitungen im Zeitraum 01.10.2016-30.09.2017 im Vergleich zum Zeitraum 01.10.2015-30.09.2016"
   ]
  },
  {
   "cell_type": "code",
   "execution_count": 23,
   "metadata": {},
   "outputs": [
    {
     "name": "stdout",
     "output_type": "stream",
     "text": [
      "Gesamt: 49.1%\n",
      "Grundlagenbuch: -38.8%\n",
      "Analysis 1: 104.2%\n",
      "Lineare Algebra 1: 0.9%\n"
     ]
    }
   ],
   "source": [
    "def w(what, node):\n",
    "    p = (len(revisions(node, date(2016, 10, 1), date(2017, 9, 30))) / len(revisions(node, date(2015, 10, 1), date(2016, 9, 30))) - 1)*100\n",
    "    print(what, (\"%.1f\" % p) + \"%\")\n",
    "\n",
    "w(\"Gesamt:\", mfnf)\n",
    "w(\"Grundlagenbuch:\", grund)\n",
    "w(\"Analysis 1:\", ana1)\n",
    "w(\"Lineare Algebra 1:\", la1)"
   ]
  },
  {
   "cell_type": "markdown",
   "metadata": {},
   "source": [
    "# Anzahl der Autoren"
   ]
  },
  {
   "cell_type": "code",
   "execution_count": 24,
   "metadata": {
    "collapsed": true
   },
   "outputs": [],
   "source": [
    "from functools import reduce\n",
    "\n",
    "def authors(node):\n",
    "    result = set(((x[\"user\"], x.get(\"anon\", False) == \"\") for x in wb.revisions(node[\"title\"])))\n",
    "    \n",
    "    result = reduce(lambda x, y: x | y, [authors(x) for x in node[\"children\"]], result)\n",
    "    \n",
    "    return result"
   ]
  },
  {
   "cell_type": "markdown",
   "metadata": {},
   "source": [
    "## Gesamtzahl der Autoren und Autorinnen mit anonymen Autoren / Autorinnen\n",
    "\n",
    "Anonnyme Autoren / Autorinnen sind Personen, die sich nicht angemeldet haben und für die Ihre IP-Adresse hinterlegt wurde. Da eine Personen unter mehreren IP-Adressen am Projekt mitgewirkt haben kann ist die folgende Statistik eine obere Grenze für die Anzahl an Autoren / Autorinnen im Projekt."
   ]
  },
  {
   "cell_type": "code",
   "execution_count": 25,
   "metadata": {},
   "outputs": [
    {
     "name": "stdout",
     "output_type": "stream",
     "text": [
      "Gesamt: 719\n",
      "Grundlagenbuch: 304\n",
      "Analysis 1: 380\n",
      "Lineare Algebra 1: 53\n"
     ]
    }
   ],
   "source": [
    "def w(what, node):\n",
    "    print(what, len(authors(node)))\n",
    "\n",
    "w(\"Gesamt:\", mfnf)\n",
    "w(\"Grundlagenbuch:\", grund)\n",
    "w(\"Analysis 1:\", ana1)\n",
    "w(\"Lineare Algebra 1:\", la1)"
   ]
  },
  {
   "cell_type": "markdown",
   "metadata": {},
   "source": [
    "# Anzahl der Autoren ohne anonyme Autoren\n",
    "\n",
    "Dies ist eine untere Grenze für die Anzahl der tatsächlichen Autoren / Autorinnen im Projekt"
   ]
  },
  {
   "cell_type": "code",
   "execution_count": 26,
   "metadata": {},
   "outputs": [
    {
     "name": "stdout",
     "output_type": "stream",
     "text": [
      "Gesamt: 176\n",
      "Grundlagenbuch: 92\n",
      "Analysis 1: 99\n",
      "Lineare Algebra 1: 20\n"
     ]
    }
   ],
   "source": [
    "def w(what, node):\n",
    "    print(what, len([x for x in authors(node) if not x[1]]))\n",
    "\n",
    "w(\"Gesamt:\", mfnf)\n",
    "w(\"Grundlagenbuch:\", grund)\n",
    "w(\"Analysis 1:\", ana1)\n",
    "w(\"Lineare Algebra 1:\", la1)"
   ]
  },
  {
   "cell_type": "markdown",
   "metadata": {},
   "source": [
    "# Hinzugefügte Bytes im Zeitraum 1.10.2016 – 30.9.2017"
   ]
  },
  {
   "cell_type": "code",
   "execution_count": 27,
   "metadata": {},
   "outputs": [
    {
     "name": "stdout",
     "output_type": "stream",
     "text": [
      "Gesamt: 1713655\n",
      "Grundlagenbuch: 8848\n",
      "Analysis 1: 992793\n",
      "Lineare Algebra 1: 244569\n"
     ]
    }
   ],
   "source": [
    "def w(what, node):\n",
    "    print(what, sum(x[\"diffsize\"] for x in revisions(node, date(2016, 10, 1), date(2017, 9, 30))))\n",
    "\n",
    "w(\"Gesamt:\", mfnf)\n",
    "w(\"Grundlagenbuch:\", grund)\n",
    "w(\"Analysis 1:\", ana1)\n",
    "w(\"Lineare Algebra 1:\", la1)"
   ]
  },
  {
   "cell_type": "markdown",
   "metadata": {},
   "source": [
    "# Geschätzte Zahl hinzugefügter Wörter im Zeitraum 1.10.2016 – 30.9.2017\n",
    "\n",
    "Hier nehmen wir an, dass je 8 Bytes (ungefähr 7Buchstaben) ein Wort ergeben."
   ]
  },
  {
   "cell_type": "code",
   "execution_count": 53,
   "metadata": {},
   "outputs": [
    {
     "name": "stdout",
     "output_type": "stream",
     "text": [
      "Gesamt: 214206\n",
      "Grundlagenbuch: 1106\n",
      "Analysis 1: 124099\n",
      "Lineare Algebra 1: 30571\n"
     ]
    }
   ],
   "source": [
    "def w(what, node):\n",
    "    print(what, int(sum(x[\"diffsize\"] for x in revisions(node, date(2016, 10, 1), date(2017, 9, 30))) / 8))\n",
    "\n",
    "w(\"Gesamt:\", mfnf)\n",
    "w(\"Grundlagenbuch:\", grund)\n",
    "w(\"Analysis 1:\", ana1)\n",
    "w(\"Lineare Algebra 1:\", la1)"
   ]
  },
  {
   "cell_type": "markdown",
   "metadata": {},
   "source": [
    "# Liste der wichtigsten Autoren / Autorinnen der Analysis 1"
   ]
  },
  {
   "cell_type": "code",
   "execution_count": 29,
   "metadata": {},
   "outputs": [
    {
     "name": "stdout",
     "output_type": "stream",
     "text": [
      "Stephan Kulla 1214763\n",
      "Who2010 1078675\n",
      "Auswahlaxiom 689800\n",
      "EulerschesPi 95839\n",
      "Taschee 42328\n",
      "Michael D'Erchie 28537\n",
      "Ch1nie 27676\n",
      "Mrvnfrtz 26916\n",
      "Christoph Kehle 25624\n",
      "Morrison69 21011\n",
      "Mattlocke2.0 20877\n",
      "Paul Stapor 20404\n",
      "Morpurgo10 16333\n",
      "GraffL 16107\n",
      "Sven87a 16038\n",
      "0-Brane 14358\n",
      "Griever~dewikibooks 11054\n",
      "Fabiangabel 9732\n",
      "Phoible 7748\n",
      "S jwiese 7740\n",
      "Vpt93 7522\n",
      "Braun~dewikibooks 7042\n",
      "Einhalbmvquadrat 6618\n",
      "Mingliaozi 6383\n",
      "Matheoldie 5175\n",
      "Meitnerium266 5111\n",
      "Beezle73 4922\n",
      "Ceranilo 4777\n",
      "Apfelmus 4312\n",
      "Mathpro01 4000\n",
      "Konrad Rind 3861\n",
      "SerloBot 3400\n",
      "BenniSERLO 2838\n",
      "Agnessa power 2800\n",
      "PhilippHanemann 2800\n",
      "BeateAsenbeck 2779\n",
      "Daniel5Ko 2763\n",
      "Benjamin Wolba 2758\n",
      "Evalain 2468\n",
      "JennKi 2148\n",
      "Juetho 1900\n",
      "Fabian Wietschorke 1500\n",
      "MJ Studies 1495\n",
      "MrScoville 1421\n",
      "KatharinaKircher 1372\n",
      "Jetstune 1100\n",
      "W.e.r.n 1027\n",
      "Peter Gröbner 1000\n",
      "KaiJay 825\n",
      "Dirk Hünniger 800\n",
      "Flauschi 704\n",
      "Florianwicher 700\n",
      "Theresa Plomer 690\n",
      "Claudia4 688\n",
      "Maths CA 525\n",
      "Letsluk 500\n",
      "Nico Benti 500\n",
      "Tratormo 500\n",
      "Farbstift Rot 480\n",
      "Boehm 400\n",
      "LoSchizzatore 400\n",
      "Nevsor 300\n",
      "Mjchael 218\n",
      "OmaMath 212\n",
      "Lukasstockner 200\n",
      "Oztafankolibril 200\n",
      "Digamma 200\n",
      "Deconimus 200\n",
      "Slow Phil 200\n",
      "Mitja 200\n",
      "Hanpetko 134\n",
      "FranzR 128\n",
      "Esclear 100\n",
      "CommonsDelinker 100\n",
      "Pythagora 100\n",
      "Kai Burghardt 100\n",
      "Jobu0101 100\n",
      "DominikJW 100\n",
      "Wieralee 100\n",
      "Alexander Herzog 100\n",
      "Bno90 100\n",
      "Fakusb 100\n",
      "Talonnn 100\n",
      "KaestleMan 100\n",
      "HirnSpuk 100\n",
      "BR~dewikibooks 100\n",
      "4tilden 100\n",
      "Michael.Metzler 100\n",
      "Jochen Burghardt 100\n",
      "Sundarrani 100\n",
      "Mathe heinze 100\n",
      "Botho cc 100\n",
      "Klaus Eifert 100\n",
      "Hydro 100\n",
      "The Ocean 100\n",
      "Pierpao 100\n",
      "Lonza~dewikibooks 100\n",
      "Tegel 100\n",
      "Richtefee 100\n"
     ]
    }
   ],
   "source": [
    "from collections import defaultdict\n",
    "\n",
    "def foo(node):\n",
    "    authors = defaultdict(int)\n",
    "    \n",
    "    for rev in wb.revisions(node[\"title\"]):\n",
    "        if \"anon\" not in rev:\n",
    "            authors[rev[\"user\"]] += rev[\"weight\"]\n",
    "    \n",
    "    for x in (foo(y) for y in node[\"children\"]):\n",
    "        for a,w in x.items():\n",
    "            authors[a] += w\n",
    "    \n",
    "    return authors\n",
    "\n",
    "for x,y in sorted(foo(ana1).items(), key=lambda x: x[1], reverse=True):\n",
    "    print(x,y)"
   ]
  },
  {
   "cell_type": "markdown",
   "metadata": {},
   "source": [
    "## Utils-Code"
   ]
  },
  {
   "cell_type": "code",
   "execution_count": 51,
   "metadata": {},
   "outputs": [],
   "source": [
    "def article_titles(node):\n",
    "    result = [node[\"title\"]] if node[\"title\"] else []\n",
    "    \n",
    "    return result + sum((article_titles(child) for child in node[\"children\"]), [])\n",
    "    \n",
    "def is_created_between(title, start, end):\n",
    "    if title.startswith(\"c:\") or title.startswith(\":\"):\n",
    "        return False\n",
    "    \n",
    "    rev = wb.revisions(title)\n",
    "    \n",
    "    if len(rev) == 0:\n",
    "        return False\n",
    "    \n",
    "    try:\n",
    "        date = wb.revisions(title)[-1][\"date\"]\n",
    "    except IndexError:\n",
    "        print(title)\n",
    "    \n",
    "    return date >= start and date <= end\n",
    "\n",
    "def new_articles(node, start, end):\n",
    "    return [x for x in article_titles(node) if is_created_between(x, start, end)]"
   ]
  },
  {
   "cell_type": "markdown",
   "metadata": {},
   "source": [
    "## Anzahl neuer Artikel im Zeitraum 1.10.2016-30.9.2017"
   ]
  },
  {
   "cell_type": "code",
   "execution_count": 52,
   "metadata": {},
   "outputs": [
    {
     "name": "stdout",
     "output_type": "stream",
     "text": [
      "Gesamt: 95\n",
      "Grundlagenbuch: 1\n",
      "Analysis 1: 33\n",
      "Lineare Algebra 1: 18\n"
     ]
    }
   ],
   "source": [
    "def w(what, node):\n",
    "    print(what, len(new_articles(node, date(2016, 10, 1), date(2017, 9, 30))))\n",
    "\n",
    "w(\"Gesamt:\", mfnf)\n",
    "w(\"Grundlagenbuch:\", grund)\n",
    "w(\"Analysis 1:\", ana1)\n",
    "w(\"Lineare Algebra 1:\", la1)"
   ]
  },
  {
   "cell_type": "markdown",
   "metadata": {},
   "source": [
    "## Anzahl der Autoren / Autorinnen im Zeitraum 1.10.2016-30.9.2017 (mit anonymen Autoren / Autorinnen)"
   ]
  },
  {
   "cell_type": "code",
   "execution_count": 56,
   "metadata": {},
   "outputs": [
    {
     "name": "stdout",
     "output_type": "stream",
     "text": [
      "Gesamt: 224\n",
      "Grundlagenbuch: 38\n",
      "Analysis 1: 163\n",
      "Lineare Algebra 1: 31\n"
     ]
    }
   ],
   "source": [
    "def foo(node):\n",
    "    return set( (rev[\"user\"] for rev in revisions(node, date(2016, 10, 1), date(2017, 9, 30))) )\n",
    "\n",
    "def w(what, node):\n",
    "    print(what, len(foo(node)))\n",
    "\n",
    "w(\"Gesamt:\", mfnf)\n",
    "w(\"Grundlagenbuch:\", grund)\n",
    "w(\"Analysis 1:\", ana1)\n",
    "w(\"Lineare Algebra 1:\", la1)"
   ]
  },
  {
   "cell_type": "markdown",
   "metadata": {},
   "source": [
    "## Anzahl der Autoren / Autorinnen im Zeitraum 1.10.2016-30.9.2017 (ohne anonyme Autoren / Autorinnen)"
   ]
  },
  {
   "cell_type": "code",
   "execution_count": 57,
   "metadata": {},
   "outputs": [
    {
     "name": "stdout",
     "output_type": "stream",
     "text": [
      "Gesamt: 62\n",
      "Grundlagenbuch: 21\n",
      "Analysis 1: 42\n",
      "Lineare Algebra 1: 12\n"
     ]
    }
   ],
   "source": [
    "def foo(node):\n",
    "    return set( (rev[\"user\"] for rev in revisions(node, date(2016, 10, 1), date(2017, 9, 30)) if \"anon\" not in rev) )\n",
    "\n",
    "def w(what, node):\n",
    "    print(what, len(foo(node)))\n",
    "\n",
    "w(\"Gesamt:\", mfnf)\n",
    "w(\"Grundlagenbuch:\", grund)\n",
    "w(\"Analysis 1:\", ana1)\n",
    "w(\"Lineare Algebra 1:\", la1)"
   ]
  }
 ],
 "metadata": {
  "kernelspec": {
   "display_name": "Python 3",
   "language": "python",
   "name": "python3"
  },
  "language_info": {
   "codemirror_mode": {
    "name": "ipython",
    "version": 3
   },
   "file_extension": ".py",
   "mimetype": "text/x-python",
   "name": "python",
   "nbconvert_exporter": "python",
   "pygments_lexer": "ipython3",
   "version": "3.5.3"
  }
 },
 "nbformat": 4,
 "nbformat_minor": 2
}
